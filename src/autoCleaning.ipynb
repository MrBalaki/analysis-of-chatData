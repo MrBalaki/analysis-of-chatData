{
 "cells": [
  {
   "cell_type": "code",
   "execution_count": 22,
   "metadata": {},
   "outputs": [],
   "source": [
    "import json\n",
    "\n",
    "dataFile = open('../data/message_1.json','r')\n",
    "list_obj = json.load(dataFile)\n",
    "dataFile.close()\n",
    "\n",
    "\n",
    "for el in list_obj['messages']:\n",
    "    if 'content' in el:\n",
    "        el['content'] = None\n",
    "    if 'reactions' in el:\n",
    "        el['reactions'] = None\n",
    "    if 'share' in el:\n",
    "        el['share'] = None\n",
    "    if 'photos' in el:\n",
    "        el['photos'] = None\n",
    "    if 'call_duration' in el:\n",
    "        el['call_duration'] = None\n",
    "\n",
    "dataFile1 = open('../data/message_1.json','w')\n",
    "json.dump(list_obj,dataFile1)\n",
    "dataFile1.close()"
   ]
  },
  {
   "cell_type": "code",
   "execution_count": null,
   "metadata": {},
   "outputs": [],
   "source": []
  }
 ],
 "metadata": {
  "kernelspec": {
   "display_name": "Python 3",
   "language": "python",
   "name": "python3"
  },
  "language_info": {
   "codemirror_mode": {
    "name": "ipython",
    "version": 3
   },
   "file_extension": ".py",
   "mimetype": "text/x-python",
   "name": "python",
   "nbconvert_exporter": "python",
   "pygments_lexer": "ipython3",
   "version": "3.7.4"
  }
 },
 "nbformat": 4,
 "nbformat_minor": 2
}
