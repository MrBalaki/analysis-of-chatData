{
 "cells": [
  {
   "cell_type": "code",
   "execution_count": 6,
   "metadata": {},
   "outputs": [],
   "source": [
    "#imports\n",
    "import os\n",
    "import numpy as np\n",
    "import math\n",
    "import json \n",
    "from datetime import datetime"
   ]
  },
  {
   "cell_type": "code",
   "execution_count": 8,
   "metadata": {},
   "outputs": [],
   "source": [
    "with open('../data/message_1.json') as json_file:\n",
    "    data = json.load(json_file)\n",
    "\n",
    "dates= []\n",
    "#looping throw the messages array.\n",
    "#getting timestamps_ms out and converting then to a readable string.\n",
    "#appending them to the dates array. \n",
    "for el in data['messages']:\n",
    "    if el['sender_name'] == \"xx yy\" and el['timestamp_ms']!=None:\n",
    "        msint = int(el['timestamp_ms'])\n",
    "        conv_date = datetime.fromtimestamp(msint/1000.0).strftime('%Y-%m-%d')\n",
    "        dates.append(conv_date)\n",
    "    \n",
    "        \n",
    "dates.sort() #sorting\n",
    "#dates        #string dates"
   ]
  },
  {
   "cell_type": "code",
   "execution_count": 18,
   "metadata": {},
   "outputs": [
    {
     "data": {
      "text/plain": [
       "71"
      ]
     },
     "execution_count": 18,
     "metadata": {},
     "output_type": "execute_result"
    }
   ],
   "source": [
    "#counting messages per equal date:\n",
    "y_values = []\n",
    "left_pointer=0\n",
    "right_pointer=0\n",
    "counter=0\n",
    "\n",
    "while right_pointer < len(dates) and left_pointer < len(dates):\n",
    "    if dates[left_pointer] != dates[right_pointer]:\n",
    "        y_values.append(counter)\n",
    "        counter = 0\n",
    "        left_pointer = right_pointer\n",
    "    if dates[left_pointer] == dates[right_pointer]:\n",
    "        counter+=1\n",
    "        right_pointer+=1\n",
    "        \n",
    "                \n",
    "len(y_values)\n"
   ]
  },
  {
   "cell_type": "code",
   "execution_count": 19,
   "metadata": {},
   "outputs": [
    {
     "data": {
      "text/plain": [
       "[0, 1, 2, 3, 4]"
      ]
     },
     "execution_count": 19,
     "metadata": {},
     "output_type": "execute_result"
    }
   ],
   "source": [
    "#then counting stamps which has equal day and month and year:\n",
    "#then saving the counts in a vektor with a respective date:\n",
    "\n",
    "#testing append:\n",
    "l = []\n",
    "for i in range(0,5):\n",
    "    l.append(i)\n",
    "    \n",
    "l"
   ]
  }
 ],
 "metadata": {
  "kernelspec": {
   "display_name": "Python 3",
   "language": "python",
   "name": "python3"
  },
  "language_info": {
   "codemirror_mode": {
    "name": "ipython",
    "version": 3
   },
   "file_extension": ".py",
   "mimetype": "text/x-python",
   "name": "python",
   "nbconvert_exporter": "python",
   "pygments_lexer": "ipython3",
   "version": "3.7.4"
  }
 },
 "nbformat": 4,
 "nbformat_minor": 2
}
